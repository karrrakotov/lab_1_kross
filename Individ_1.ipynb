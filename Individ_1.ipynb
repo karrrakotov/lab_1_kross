{
 "cells": [
  {
   "cell_type": "markdown",
   "metadata": {},
   "source": [
    "# Индивидуальное задание 1.\n",
    "\n",
    "## Задание.\n",
    "\n",
    "Масса пустой бутылки 460 г. Масса этой же бутылки, наполненной водой, 960 г, а наполненной подсолнечным маслом - 920 г. Определите по этим данным плотность подсолнечного масла. (Плотность воды считать известной.)\n"
   ]
  },
  {
   "cell_type": "markdown",
   "metadata": {},
   "source": [
    "### Дано:\n",
    "$ m_1 = 460 \\text г \\\\\n",
    "m_2 = 960 \\text г \\\\\n",
    "p_\\text{воды} = 1 \\textг/ \\text см^3 \\\\\n",
    "m_3 = 920 \\text г $\n",
    "\n",
    "### Найти:\n",
    "$ p_{масла} - ? $\n",
    "\n",
    "### Решение:\n",
    "Запишем формулы:\n",
    "$ m_{масла} = m_3 - m_1 \\\\\n",
    "m_{воды} = m_2 - m_1 \\\\\n",
    "V_{воды} = m_{воды} / p_{воды} \\\\\n",
    "V_{воды} = V_{масла} \\\\\n",
    "p_{масла} = m_{масла} / V_{масла} $\n",
    "\n"
   ]
  },
  {
   "cell_type": "markdown",
   "metadata": {},
   "source": [
    "1)Вычислим $ m_{масла} $"
   ]
  },
  {
   "cell_type": "code",
   "execution_count": 1,
   "metadata": {},
   "outputs": [
    {
     "name": "stdout",
     "output_type": "stream",
     "text": [
      "460г\n"
     ]
    }
   ],
   "source": [
    "m3 = 920\n",
    "m1 = 460\n",
    "m_oil = m3 - m1\n",
    "print(f'{m_oil}г')"
   ]
  },
  {
   "cell_type": "markdown",
   "metadata": {},
   "source": [
    "2)Вычислим $ m_{воды} $"
   ]
  },
  {
   "cell_type": "code",
   "execution_count": 2,
   "metadata": {},
   "outputs": [
    {
     "name": "stdout",
     "output_type": "stream",
     "text": [
      "500г\n"
     ]
    }
   ],
   "source": [
    "m2 = 960\n",
    "m1 = 460\n",
    "m_water = m2 - m1\n",
    "print(f'{m_water}г')"
   ]
  },
  {
   "cell_type": "markdown",
   "metadata": {},
   "source": [
    "3)Вычислим $ V_{воды} $"
   ]
  },
  {
   "cell_type": "code",
   "execution_count": 3,
   "metadata": {},
   "outputs": [
    {
     "name": "stdout",
     "output_type": "stream",
     "text": [
      "500.0 см^3\n"
     ]
    }
   ],
   "source": [
    "p_water = 1\n",
    "v_water = m_water / p_water\n",
    "print(f'{v_water} см^3')"
   ]
  },
  {
   "cell_type": "markdown",
   "metadata": {},
   "source": [
    "Теперь вычислим $ p_{масла} $"
   ]
  },
  {
   "cell_type": "code",
   "execution_count": 7,
   "metadata": {},
   "outputs": [
    {
     "name": "stdout",
     "output_type": "stream",
     "text": [
      "0.92 кг/см^3\n"
     ]
    }
   ],
   "source": [
    "v_oil = v_water\n",
    "p_oil = m_oil / v_oil\n",
    "print(f'{p_oil} кг/см^3')"
   ]
  },
  {
   "cell_type": "markdown",
   "metadata": {},
   "source": [
    "### Ответ:\n",
    "$ p_{масла} = 0.92 кг / см^3 $"
   ]
  }
 ],
 "metadata": {
  "kernelspec": {
   "display_name": "Python 3",
   "language": "python",
   "name": "python3"
  },
  "language_info": {
   "codemirror_mode": {
    "name": "ipython",
    "version": 3
   },
   "file_extension": ".py",
   "mimetype": "text/x-python",
   "name": "python",
   "nbconvert_exporter": "python",
   "pygments_lexer": "ipython3",
   "version": "3.8.5"
  }
 },
 "nbformat": 4,
 "nbformat_minor": 4
}
